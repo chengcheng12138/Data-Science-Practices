{
 "cells": [
  {
   "cell_type": "code",
   "execution_count": 118,
   "metadata": {},
   "outputs": [],
   "source": [
    "import numpy as np\n",
    "import pandas as pd\n",
    "import matplotlib as mpl\n",
    "import matplotlib.pyplot as plt\n",
    "import seaborn as sns\n",
    "import warnings\n",
    "import scipy\n",
    "from scipy import stats\n",
    "from scipy.cluster import hierarchy\n",
    "from scipy.spatial.distance import pdist, squareform\n",
    "from sklearn import datasets\n",
    "from sklearn.cluster import KMeans\n",
    "from scipy.cluster.hierarchy import linkage, dendrogram\n",
    "from sklearn.linear_model import LinearRegression\n",
    "warnings.filterwarnings(\"ignore\")"
   ]
  },
  {
   "cell_type": "code",
   "execution_count": 119,
   "metadata": {},
   "outputs": [
    {
     "data": {
      "text/html": [
       "<div>\n",
       "<style scoped>\n",
       "    .dataframe tbody tr th:only-of-type {\n",
       "        vertical-align: middle;\n",
       "    }\n",
       "\n",
       "    .dataframe tbody tr th {\n",
       "        vertical-align: top;\n",
       "    }\n",
       "\n",
       "    .dataframe thead th {\n",
       "        text-align: right;\n",
       "    }\n",
       "</style>\n",
       "<table border=\"1\" class=\"dataframe\">\n",
       "  <thead>\n",
       "    <tr style=\"text-align: right;\">\n",
       "      <th></th>\n",
       "      <th>Sym</th>\n",
       "      <th>Nor_Los</th>\n",
       "      <th>make</th>\n",
       "      <th>Fue_Typ</th>\n",
       "      <th>aspiration</th>\n",
       "      <th>Num_of_Door</th>\n",
       "      <th>Bod_Sty</th>\n",
       "      <th>Dri_Whe</th>\n",
       "      <th>Eng_Loc</th>\n",
       "      <th>Whe_Bas</th>\n",
       "      <th>...</th>\n",
       "      <th>Eng_Siz</th>\n",
       "      <th>Fue_Sys</th>\n",
       "      <th>Bore</th>\n",
       "      <th>Stroke</th>\n",
       "      <th>Com_Rat</th>\n",
       "      <th>hp</th>\n",
       "      <th>Pea_Rpm</th>\n",
       "      <th>Cit_Mpg</th>\n",
       "      <th>Hig_Mpg</th>\n",
       "      <th>Price</th>\n",
       "    </tr>\n",
       "  </thead>\n",
       "  <tbody>\n",
       "    <tr>\n",
       "      <td>1</td>\n",
       "      <td>3</td>\n",
       "      <td>?</td>\n",
       "      <td>alfa-romero</td>\n",
       "      <td>gas</td>\n",
       "      <td>std</td>\n",
       "      <td>two</td>\n",
       "      <td>convertible</td>\n",
       "      <td>rwd</td>\n",
       "      <td>front</td>\n",
       "      <td>88.6</td>\n",
       "      <td>...</td>\n",
       "      <td>130</td>\n",
       "      <td>mpfi</td>\n",
       "      <td>3.47</td>\n",
       "      <td>2.68</td>\n",
       "      <td>9.0</td>\n",
       "      <td>111</td>\n",
       "      <td>5000</td>\n",
       "      <td>21</td>\n",
       "      <td>27</td>\n",
       "      <td>13495</td>\n",
       "    </tr>\n",
       "    <tr>\n",
       "      <td>2</td>\n",
       "      <td>3</td>\n",
       "      <td>?</td>\n",
       "      <td>alfa-romero</td>\n",
       "      <td>gas</td>\n",
       "      <td>std</td>\n",
       "      <td>two</td>\n",
       "      <td>convertible</td>\n",
       "      <td>rwd</td>\n",
       "      <td>front</td>\n",
       "      <td>88.6</td>\n",
       "      <td>...</td>\n",
       "      <td>130</td>\n",
       "      <td>mpfi</td>\n",
       "      <td>3.47</td>\n",
       "      <td>2.68</td>\n",
       "      <td>9.0</td>\n",
       "      <td>111</td>\n",
       "      <td>5000</td>\n",
       "      <td>21</td>\n",
       "      <td>27</td>\n",
       "      <td>16500</td>\n",
       "    </tr>\n",
       "    <tr>\n",
       "      <td>3</td>\n",
       "      <td>1</td>\n",
       "      <td>?</td>\n",
       "      <td>alfa-romero</td>\n",
       "      <td>gas</td>\n",
       "      <td>std</td>\n",
       "      <td>two</td>\n",
       "      <td>hatchback</td>\n",
       "      <td>rwd</td>\n",
       "      <td>front</td>\n",
       "      <td>94.5</td>\n",
       "      <td>...</td>\n",
       "      <td>152</td>\n",
       "      <td>mpfi</td>\n",
       "      <td>2.68</td>\n",
       "      <td>3.47</td>\n",
       "      <td>9.0</td>\n",
       "      <td>154</td>\n",
       "      <td>5000</td>\n",
       "      <td>19</td>\n",
       "      <td>26</td>\n",
       "      <td>16500</td>\n",
       "    </tr>\n",
       "    <tr>\n",
       "      <td>4</td>\n",
       "      <td>2</td>\n",
       "      <td>164</td>\n",
       "      <td>audi</td>\n",
       "      <td>gas</td>\n",
       "      <td>std</td>\n",
       "      <td>four</td>\n",
       "      <td>sedan</td>\n",
       "      <td>fwd</td>\n",
       "      <td>front</td>\n",
       "      <td>99.8</td>\n",
       "      <td>...</td>\n",
       "      <td>109</td>\n",
       "      <td>mpfi</td>\n",
       "      <td>3.19</td>\n",
       "      <td>3.40</td>\n",
       "      <td>10.0</td>\n",
       "      <td>102</td>\n",
       "      <td>5500</td>\n",
       "      <td>24</td>\n",
       "      <td>30</td>\n",
       "      <td>13950</td>\n",
       "    </tr>\n",
       "    <tr>\n",
       "      <td>5</td>\n",
       "      <td>2</td>\n",
       "      <td>164</td>\n",
       "      <td>audi</td>\n",
       "      <td>gas</td>\n",
       "      <td>std</td>\n",
       "      <td>four</td>\n",
       "      <td>sedan</td>\n",
       "      <td>4wd</td>\n",
       "      <td>front</td>\n",
       "      <td>99.4</td>\n",
       "      <td>...</td>\n",
       "      <td>136</td>\n",
       "      <td>mpfi</td>\n",
       "      <td>3.19</td>\n",
       "      <td>3.40</td>\n",
       "      <td>8.0</td>\n",
       "      <td>115</td>\n",
       "      <td>5500</td>\n",
       "      <td>18</td>\n",
       "      <td>22</td>\n",
       "      <td>17450</td>\n",
       "    </tr>\n",
       "    <tr>\n",
       "      <td>...</td>\n",
       "      <td>...</td>\n",
       "      <td>...</td>\n",
       "      <td>...</td>\n",
       "      <td>...</td>\n",
       "      <td>...</td>\n",
       "      <td>...</td>\n",
       "      <td>...</td>\n",
       "      <td>...</td>\n",
       "      <td>...</td>\n",
       "      <td>...</td>\n",
       "      <td>...</td>\n",
       "      <td>...</td>\n",
       "      <td>...</td>\n",
       "      <td>...</td>\n",
       "      <td>...</td>\n",
       "      <td>...</td>\n",
       "      <td>...</td>\n",
       "      <td>...</td>\n",
       "      <td>...</td>\n",
       "      <td>...</td>\n",
       "      <td>...</td>\n",
       "    </tr>\n",
       "    <tr>\n",
       "      <td>201</td>\n",
       "      <td>-1</td>\n",
       "      <td>95</td>\n",
       "      <td>volvo</td>\n",
       "      <td>gas</td>\n",
       "      <td>std</td>\n",
       "      <td>four</td>\n",
       "      <td>sedan</td>\n",
       "      <td>rwd</td>\n",
       "      <td>front</td>\n",
       "      <td>109.1</td>\n",
       "      <td>...</td>\n",
       "      <td>141</td>\n",
       "      <td>mpfi</td>\n",
       "      <td>3.78</td>\n",
       "      <td>3.15</td>\n",
       "      <td>9.5</td>\n",
       "      <td>114</td>\n",
       "      <td>5400</td>\n",
       "      <td>23</td>\n",
       "      <td>28</td>\n",
       "      <td>16845</td>\n",
       "    </tr>\n",
       "    <tr>\n",
       "      <td>202</td>\n",
       "      <td>-1</td>\n",
       "      <td>95</td>\n",
       "      <td>volvo</td>\n",
       "      <td>gas</td>\n",
       "      <td>turbo</td>\n",
       "      <td>four</td>\n",
       "      <td>sedan</td>\n",
       "      <td>rwd</td>\n",
       "      <td>front</td>\n",
       "      <td>109.1</td>\n",
       "      <td>...</td>\n",
       "      <td>141</td>\n",
       "      <td>mpfi</td>\n",
       "      <td>3.78</td>\n",
       "      <td>3.15</td>\n",
       "      <td>8.7</td>\n",
       "      <td>160</td>\n",
       "      <td>5300</td>\n",
       "      <td>19</td>\n",
       "      <td>25</td>\n",
       "      <td>19045</td>\n",
       "    </tr>\n",
       "    <tr>\n",
       "      <td>203</td>\n",
       "      <td>-1</td>\n",
       "      <td>95</td>\n",
       "      <td>volvo</td>\n",
       "      <td>gas</td>\n",
       "      <td>std</td>\n",
       "      <td>four</td>\n",
       "      <td>sedan</td>\n",
       "      <td>rwd</td>\n",
       "      <td>front</td>\n",
       "      <td>109.1</td>\n",
       "      <td>...</td>\n",
       "      <td>173</td>\n",
       "      <td>mpfi</td>\n",
       "      <td>3.58</td>\n",
       "      <td>2.87</td>\n",
       "      <td>8.8</td>\n",
       "      <td>134</td>\n",
       "      <td>5500</td>\n",
       "      <td>18</td>\n",
       "      <td>23</td>\n",
       "      <td>21485</td>\n",
       "    </tr>\n",
       "    <tr>\n",
       "      <td>204</td>\n",
       "      <td>-1</td>\n",
       "      <td>95</td>\n",
       "      <td>volvo</td>\n",
       "      <td>diesel</td>\n",
       "      <td>turbo</td>\n",
       "      <td>four</td>\n",
       "      <td>sedan</td>\n",
       "      <td>rwd</td>\n",
       "      <td>front</td>\n",
       "      <td>109.1</td>\n",
       "      <td>...</td>\n",
       "      <td>145</td>\n",
       "      <td>idi</td>\n",
       "      <td>3.01</td>\n",
       "      <td>3.40</td>\n",
       "      <td>23.0</td>\n",
       "      <td>106</td>\n",
       "      <td>4800</td>\n",
       "      <td>26</td>\n",
       "      <td>27</td>\n",
       "      <td>22470</td>\n",
       "    </tr>\n",
       "    <tr>\n",
       "      <td>205</td>\n",
       "      <td>-1</td>\n",
       "      <td>95</td>\n",
       "      <td>volvo</td>\n",
       "      <td>gas</td>\n",
       "      <td>turbo</td>\n",
       "      <td>four</td>\n",
       "      <td>sedan</td>\n",
       "      <td>rwd</td>\n",
       "      <td>front</td>\n",
       "      <td>109.1</td>\n",
       "      <td>...</td>\n",
       "      <td>141</td>\n",
       "      <td>mpfi</td>\n",
       "      <td>3.78</td>\n",
       "      <td>3.15</td>\n",
       "      <td>9.5</td>\n",
       "      <td>114</td>\n",
       "      <td>5400</td>\n",
       "      <td>19</td>\n",
       "      <td>25</td>\n",
       "      <td>22625</td>\n",
       "    </tr>\n",
       "  </tbody>\n",
       "</table>\n",
       "<p>205 rows × 26 columns</p>\n",
       "</div>"
      ],
      "text/plain": [
       "     Sym Nor_Los         make Fue_Typ aspiration Num_of_Door      Bod_Sty  \\\n",
       "1      3       ?  alfa-romero     gas        std         two  convertible   \n",
       "2      3       ?  alfa-romero     gas        std         two  convertible   \n",
       "3      1       ?  alfa-romero     gas        std         two    hatchback   \n",
       "4      2     164         audi     gas        std        four        sedan   \n",
       "5      2     164         audi     gas        std        four        sedan   \n",
       "..   ...     ...          ...     ...        ...         ...          ...   \n",
       "201   -1      95        volvo     gas        std        four        sedan   \n",
       "202   -1      95        volvo     gas      turbo        four        sedan   \n",
       "203   -1      95        volvo     gas        std        four        sedan   \n",
       "204   -1      95        volvo  diesel      turbo        four        sedan   \n",
       "205   -1      95        volvo     gas      turbo        four        sedan   \n",
       "\n",
       "    Dri_Whe Eng_Loc  Whe_Bas  ...  Eng_Siz  Fue_Sys  Bore  Stroke Com_Rat  \\\n",
       "1       rwd   front     88.6  ...      130     mpfi  3.47    2.68     9.0   \n",
       "2       rwd   front     88.6  ...      130     mpfi  3.47    2.68     9.0   \n",
       "3       rwd   front     94.5  ...      152     mpfi  2.68    3.47     9.0   \n",
       "4       fwd   front     99.8  ...      109     mpfi  3.19    3.40    10.0   \n",
       "5       4wd   front     99.4  ...      136     mpfi  3.19    3.40     8.0   \n",
       "..      ...     ...      ...  ...      ...      ...   ...     ...     ...   \n",
       "201     rwd   front    109.1  ...      141     mpfi  3.78    3.15     9.5   \n",
       "202     rwd   front    109.1  ...      141     mpfi  3.78    3.15     8.7   \n",
       "203     rwd   front    109.1  ...      173     mpfi  3.58    2.87     8.8   \n",
       "204     rwd   front    109.1  ...      145      idi  3.01    3.40    23.0   \n",
       "205     rwd   front    109.1  ...      141     mpfi  3.78    3.15     9.5   \n",
       "\n",
       "      hp  Pea_Rpm Cit_Mpg Hig_Mpg  Price  \n",
       "1    111     5000      21      27  13495  \n",
       "2    111     5000      21      27  16500  \n",
       "3    154     5000      19      26  16500  \n",
       "4    102     5500      24      30  13950  \n",
       "5    115     5500      18      22  17450  \n",
       "..   ...      ...     ...     ...    ...  \n",
       "201  114     5400      23      28  16845  \n",
       "202  160     5300      19      25  19045  \n",
       "203  134     5500      18      23  21485  \n",
       "204  106     4800      26      27  22470  \n",
       "205  114     5400      19      25  22625  \n",
       "\n",
       "[205 rows x 26 columns]"
      ]
     },
     "execution_count": 119,
     "metadata": {},
     "output_type": "execute_result"
    }
   ],
   "source": [
    "Auto=pd.read_csv('/Users/kristinzhang/Desktop/学习资料/2020 spring/sta160/project 1/Auto.csv')\n",
    "Auto"
   ]
  },
  {
   "cell_type": "code",
   "execution_count": 120,
   "metadata": {},
   "outputs": [
    {
     "data": {
      "text/plain": [
       "Sym             0\n",
       "Nor_Los        41\n",
       "make            0\n",
       "Fue_Typ         0\n",
       "aspiration      0\n",
       "Num_of_Door     2\n",
       "Bod_Sty         0\n",
       "Dri_Whe         0\n",
       "Eng_Loc         0\n",
       "Whe_Bas         0\n",
       "Length          0\n",
       "Width           0\n",
       "height          0\n",
       "Cur_Wei         0\n",
       "Eng_Typ         0\n",
       "Num_of_Cyl      0\n",
       "Eng_Siz         0\n",
       "Fue_Sys         0\n",
       "Bore            4\n",
       "Stroke          4\n",
       "Com_Rat         0\n",
       "hp              2\n",
       "Pea_Rpm         2\n",
       "Cit_Mpg         0\n",
       "Hig_Mpg         0\n",
       "Price           4\n",
       "dtype: int64"
      ]
     },
     "execution_count": 120,
     "metadata": {},
     "output_type": "execute_result"
    }
   ],
   "source": [
    "df_data = Auto.replace('?',np.NAN) \n",
    "df_data.isnull().sum()"
   ]
  },
  {
   "cell_type": "code",
   "execution_count": 121,
   "metadata": {},
   "outputs": [
    {
     "data": {
      "text/html": [
       "<div>\n",
       "<style scoped>\n",
       "    .dataframe tbody tr th:only-of-type {\n",
       "        vertical-align: middle;\n",
       "    }\n",
       "\n",
       "    .dataframe tbody tr th {\n",
       "        vertical-align: top;\n",
       "    }\n",
       "\n",
       "    .dataframe thead th {\n",
       "        text-align: right;\n",
       "    }\n",
       "</style>\n",
       "<table border=\"1\" class=\"dataframe\">\n",
       "  <thead>\n",
       "    <tr style=\"text-align: right;\">\n",
       "      <th></th>\n",
       "      <th>Sym</th>\n",
       "      <th>Nor_Los</th>\n",
       "      <th>make</th>\n",
       "      <th>Fue_Typ</th>\n",
       "      <th>aspiration</th>\n",
       "      <th>Num_of_Door</th>\n",
       "      <th>Bod_Sty</th>\n",
       "      <th>Dri_Whe</th>\n",
       "      <th>Eng_Loc</th>\n",
       "      <th>Whe_Bas</th>\n",
       "      <th>...</th>\n",
       "      <th>Eng_Siz</th>\n",
       "      <th>Fue_Sys</th>\n",
       "      <th>Bore</th>\n",
       "      <th>Stroke</th>\n",
       "      <th>Com_Rat</th>\n",
       "      <th>hp</th>\n",
       "      <th>Pea_Rpm</th>\n",
       "      <th>Cit_Mpg</th>\n",
       "      <th>Hig_Mpg</th>\n",
       "      <th>Price</th>\n",
       "    </tr>\n",
       "  </thead>\n",
       "  <tbody>\n",
       "    <tr>\n",
       "      <td>1</td>\n",
       "      <td>3</td>\n",
       "      <td>122</td>\n",
       "      <td>alfa-romero</td>\n",
       "      <td>gas</td>\n",
       "      <td>std</td>\n",
       "      <td>two</td>\n",
       "      <td>convertible</td>\n",
       "      <td>rwd</td>\n",
       "      <td>front</td>\n",
       "      <td>88.6</td>\n",
       "      <td>...</td>\n",
       "      <td>130</td>\n",
       "      <td>mpfi</td>\n",
       "      <td>3.47</td>\n",
       "      <td>2.68</td>\n",
       "      <td>9.0</td>\n",
       "      <td>111</td>\n",
       "      <td>5000</td>\n",
       "      <td>21</td>\n",
       "      <td>27</td>\n",
       "      <td>13495</td>\n",
       "    </tr>\n",
       "    <tr>\n",
       "      <td>2</td>\n",
       "      <td>3</td>\n",
       "      <td>122</td>\n",
       "      <td>alfa-romero</td>\n",
       "      <td>gas</td>\n",
       "      <td>std</td>\n",
       "      <td>two</td>\n",
       "      <td>convertible</td>\n",
       "      <td>rwd</td>\n",
       "      <td>front</td>\n",
       "      <td>88.6</td>\n",
       "      <td>...</td>\n",
       "      <td>130</td>\n",
       "      <td>mpfi</td>\n",
       "      <td>3.47</td>\n",
       "      <td>2.68</td>\n",
       "      <td>9.0</td>\n",
       "      <td>111</td>\n",
       "      <td>5000</td>\n",
       "      <td>21</td>\n",
       "      <td>27</td>\n",
       "      <td>16500</td>\n",
       "    </tr>\n",
       "    <tr>\n",
       "      <td>3</td>\n",
       "      <td>1</td>\n",
       "      <td>122</td>\n",
       "      <td>alfa-romero</td>\n",
       "      <td>gas</td>\n",
       "      <td>std</td>\n",
       "      <td>two</td>\n",
       "      <td>hatchback</td>\n",
       "      <td>rwd</td>\n",
       "      <td>front</td>\n",
       "      <td>94.5</td>\n",
       "      <td>...</td>\n",
       "      <td>152</td>\n",
       "      <td>mpfi</td>\n",
       "      <td>2.68</td>\n",
       "      <td>3.47</td>\n",
       "      <td>9.0</td>\n",
       "      <td>154</td>\n",
       "      <td>5000</td>\n",
       "      <td>19</td>\n",
       "      <td>26</td>\n",
       "      <td>16500</td>\n",
       "    </tr>\n",
       "    <tr>\n",
       "      <td>4</td>\n",
       "      <td>2</td>\n",
       "      <td>164</td>\n",
       "      <td>audi</td>\n",
       "      <td>gas</td>\n",
       "      <td>std</td>\n",
       "      <td>four</td>\n",
       "      <td>sedan</td>\n",
       "      <td>fwd</td>\n",
       "      <td>front</td>\n",
       "      <td>99.8</td>\n",
       "      <td>...</td>\n",
       "      <td>109</td>\n",
       "      <td>mpfi</td>\n",
       "      <td>3.19</td>\n",
       "      <td>3.40</td>\n",
       "      <td>10.0</td>\n",
       "      <td>102</td>\n",
       "      <td>5500</td>\n",
       "      <td>24</td>\n",
       "      <td>30</td>\n",
       "      <td>13950</td>\n",
       "    </tr>\n",
       "    <tr>\n",
       "      <td>5</td>\n",
       "      <td>2</td>\n",
       "      <td>164</td>\n",
       "      <td>audi</td>\n",
       "      <td>gas</td>\n",
       "      <td>std</td>\n",
       "      <td>four</td>\n",
       "      <td>sedan</td>\n",
       "      <td>4wd</td>\n",
       "      <td>front</td>\n",
       "      <td>99.4</td>\n",
       "      <td>...</td>\n",
       "      <td>136</td>\n",
       "      <td>mpfi</td>\n",
       "      <td>3.19</td>\n",
       "      <td>3.40</td>\n",
       "      <td>8.0</td>\n",
       "      <td>115</td>\n",
       "      <td>5500</td>\n",
       "      <td>18</td>\n",
       "      <td>22</td>\n",
       "      <td>17450</td>\n",
       "    </tr>\n",
       "  </tbody>\n",
       "</table>\n",
       "<p>5 rows × 26 columns</p>\n",
       "</div>"
      ],
      "text/plain": [
       "   Sym  Nor_Los         make Fue_Typ aspiration Num_of_Door      Bod_Sty  \\\n",
       "1    3      122  alfa-romero     gas        std         two  convertible   \n",
       "2    3      122  alfa-romero     gas        std         two  convertible   \n",
       "3    1      122  alfa-romero     gas        std         two    hatchback   \n",
       "4    2      164         audi     gas        std        four        sedan   \n",
       "5    2      164         audi     gas        std        four        sedan   \n",
       "\n",
       "  Dri_Whe Eng_Loc  Whe_Bas  ...  Eng_Siz  Fue_Sys  Bore  Stroke Com_Rat   hp  \\\n",
       "1     rwd   front     88.6  ...      130     mpfi  3.47    2.68     9.0  111   \n",
       "2     rwd   front     88.6  ...      130     mpfi  3.47    2.68     9.0  111   \n",
       "3     rwd   front     94.5  ...      152     mpfi  2.68    3.47     9.0  154   \n",
       "4     fwd   front     99.8  ...      109     mpfi  3.19    3.40    10.0  102   \n",
       "5     4wd   front     99.4  ...      136     mpfi  3.19    3.40     8.0  115   \n",
       "\n",
       "   Pea_Rpm Cit_Mpg  Hig_Mpg  Price  \n",
       "1     5000      21       27  13495  \n",
       "2     5000      21       27  16500  \n",
       "3     5000      19       26  16500  \n",
       "4     5500      24       30  13950  \n",
       "5     5500      18       22  17450  \n",
       "\n",
       "[5 rows x 26 columns]"
      ]
     },
     "execution_count": 121,
     "metadata": {},
     "output_type": "execute_result"
    }
   ],
   "source": [
    "#fill missing data of normalised-losses, \n",
    "#price, horsepower, peak-rpm, bore, stroke with the respective column mean\n",
    "\n",
    "#Fill missing data category Number of doors with the mode of the column i.e. Four\n",
    "df_temp = Auto[Auto['Nor_Los']!='?']\n",
    "normalised_mean = df_temp['Nor_Los'].astype(int).mean()\n",
    "Auto['Nor_Los'] = Auto['Nor_Los'].replace('?',normalised_mean).astype(int)\n",
    "\n",
    "df_temp = Auto[Auto['Price']!='?']\n",
    "normalised_mean = df_temp['Price'].astype(int).mean()\n",
    "Auto['Price'] = Auto['Price'].replace('?',normalised_mean).astype(int)\n",
    "\n",
    "df_temp = Auto[Auto['hp']!='?']\n",
    "normalised_mean = df_temp['hp'].astype(int).mean()\n",
    "Auto['hp'] = Auto['hp'].replace('?',normalised_mean).astype(int)\n",
    "\n",
    "df_temp = Auto[Auto['Pea_Rpm']!='?']\n",
    "normalised_mean = df_temp['Pea_Rpm'].astype(int).mean()\n",
    "Auto['Pea_Rpm'] = Auto['Pea_Rpm'].replace('?',normalised_mean).astype(int)\n",
    "\n",
    "df_temp = Auto[Auto['Bore']!='?']\n",
    "normalised_mean = df_temp['Bore'].astype(float).mean()\n",
    "Auto['Bore'] = Auto['Bore'].replace('?',normalised_mean).astype(float)\n",
    "\n",
    "df_temp = Auto[Auto['Stroke']!='?']\n",
    "normalised_mean = df_temp['Stroke'].astype(float).mean()\n",
    "Auto['Stroke'] = Auto['Stroke'].replace('?',normalised_mean).astype(float)\n",
    "\n",
    "\n",
    "Auto['Num_of_Door'] = Auto['Num_of_Door'].replace('?','four')\n",
    "Auto.head()"
   ]
  },
  {
   "cell_type": "code",
   "execution_count": 122,
   "metadata": {},
   "outputs": [
    {
     "data": {
      "image/png": "[encoded data removed]",
      "text/plain": [
       "<Figure size 720x360 with 1 Axes>"
      ]
     },
     "metadata": {
      "needs_background": "light"
     },
     "output_type": "display_data"
    }
   ],
   "source": [
    "plt.figure(figsize=(10,5))\n",
    "sns.countplot(x='make', data=Auto)\n",
    "plt.xticks(rotation='vertical')\n",
    "plt.title('Manufacturers distribution in dataset')\n",
    "plt.show()\n",
    "#Top Selling Car Manufacturer is Toyota"
   ]
  },
  {
   "cell_type": "markdown",
   "metadata": {},
   "source": [
    "The are several strongly correlating with each other columns, which could be combined together:\n",
    "\n",
    "\n",
    "mpg = (city-mpg + highway-mpg) / 2\n",
    "\n",
    "\n",
    "\n",
    "curb_weight is somehow based on linear sizes: length, width, wheel_base"
   ]
  },
  {
   "cell_type": "code",
   "execution_count": 123,
   "metadata": {},
   "outputs": [],
   "source": [
    "data1=Auto.copy()\n",
    "data1['mpg'] = (data1['Cit_Mpg'] + data1['Hig_Mpg']) / 2"
   ]
  },
  {
   "cell_type": "code",
   "execution_count": 124,
   "metadata": {},
   "outputs": [
    {
     "data": {
      "image/png": "[encoded data removed]",
      "text/plain": [
       "<Figure size 504x504 with 2 Axes>"
      ]
     },
     "metadata": {
      "needs_background": "light"
     },
     "output_type": "display_data"
    }
   ],
   "source": [
    "data2=data1.copy()\n",
    "num_df=data2[['height','Cur_Wei','Eng_Siz','Bore','Stroke','Com_Rat',\n",
    "            'Pea_Rpm','hp','Sym','Nor_Los','mpg','Price']]\n",
    "plt.figure(figsize=(7, 7))\n",
    "ax = sns.heatmap(num_df.corr(), vmax=.8, square=True, fmt='.2f',cmap=\"Greens\",linecolor='white', linewidths=0.09)\n",
    "plt.title('Cross correlation between numerical')\n",
    "plt.show()"
   ]
  },
  {
   "cell_type": "code",
   "execution_count": 125,
   "metadata": {},
   "outputs": [
    {
     "data": {
      "text/plain": [
       "(0.1343877957091601, 0.05471931679041278)"
      ]
     },
     "execution_count": 125,
     "metadata": {},
     "output_type": "execute_result"
    }
   ],
   "source": [
    "stats.pearsonr(Auto['height'], Auto['Price'])"
   ]
  },
  {
   "cell_type": "code",
   "execution_count": 126,
   "metadata": {},
   "outputs": [
    {
     "data": {
      "text/plain": [
       "(0.8208247364886393, 2.8663275083502043e-51)"
      ]
     },
     "execution_count": 126,
     "metadata": {},
     "output_type": "execute_result"
    }
   ],
   "source": [
    "stats.pearsonr(Auto['Cur_Wei'], Auto['Price'])"
   ]
  },
  {
   "cell_type": "code",
   "execution_count": 127,
   "metadata": {},
   "outputs": [
    {
     "data": {
      "text/plain": [
       "(0.8617522313557833, 9.66974309680653e-62)"
      ]
     },
     "execution_count": 127,
     "metadata": {},
     "output_type": "execute_result"
    }
   ],
   "source": [
    "stats.pearsonr(Auto['Eng_Siz'], Auto['Price'])"
   ]
  },
  {
   "cell_type": "code",
   "execution_count": 128,
   "metadata": {},
   "outputs": [
    {
     "data": {
      "text/plain": [
       "(0.5323000757708254, 2.139812289831734e-16)"
      ]
     },
     "execution_count": 128,
     "metadata": {},
     "output_type": "execute_result"
    }
   ],
   "source": [
    "stats.pearsonr(Auto['Bore'], Auto['Price'])"
   ]
  },
  {
   "cell_type": "code",
   "execution_count": 129,
   "metadata": {},
   "outputs": [
    {
     "data": {
      "text/plain": [
       "(0.08209537049469544, 0.2419141372709262)"
      ]
     },
     "execution_count": 129,
     "metadata": {},
     "output_type": "execute_result"
    }
   ],
   "source": [
    "stats.pearsonr(Auto['Stroke'], Auto['Price'])"
   ]
  },
  {
   "cell_type": "code",
   "execution_count": 130,
   "metadata": {},
   "outputs": [
    {
     "data": {
      "text/plain": [
       "(0.07099045143780537, 0.31178188611196345)"
      ]
     },
     "execution_count": 130,
     "metadata": {},
     "output_type": "execute_result"
    }
   ],
   "source": [
    "stats.pearsonr(Auto['Com_Rat'], Auto['Price'])"
   ]
  },
  {
   "cell_type": "code",
   "execution_count": 131,
   "metadata": {},
   "outputs": [
    {
     "data": {
      "text/plain": [
       "(0.7579456217935241, 1.591033244659641e-39)"
      ]
     },
     "execution_count": 131,
     "metadata": {},
     "output_type": "execute_result"
    }
   ],
   "source": [
    "stats.pearsonr(Auto['hp'], Auto['Price'])"
   ]
  },
  {
   "cell_type": "code",
   "execution_count": 132,
   "metadata": {},
   "outputs": [
    {
     "data": {
      "text/plain": [
       "(-0.10085084127381386, 0.15020557409046376)"
      ]
     },
     "execution_count": 132,
     "metadata": {},
     "output_type": "execute_result"
    }
   ],
   "source": [
    "stats.pearsonr(Auto['Pea_Rpm'], Auto['Price'])"
   ]
  },
  {
   "cell_type": "code",
   "execution_count": 133,
   "metadata": {},
   "outputs": [
    {
     "data": {
      "text/plain": [
       "(-0.6842007110736521, 1.2003440437917137e-29)"
      ]
     },
     "execution_count": 133,
     "metadata": {},
     "output_type": "execute_result"
    }
   ],
   "source": [
    "stats.pearsonr(data2['mpg'], Auto['Price'])"
   ]
  },
  {
   "cell_type": "code",
   "execution_count": 134,
   "metadata": {},
   "outputs": [
    {
     "data": {
      "text/plain": [
       "(-0.08220135087401062, 0.24130482805344847)"
      ]
     },
     "execution_count": 134,
     "metadata": {},
     "output_type": "execute_result"
    }
   ],
   "source": [
    "stats.pearsonr(Auto['Sym'], Auto['Price'])"
   ]
  },
  {
   "cell_type": "code",
   "execution_count": 135,
   "metadata": {},
   "outputs": [
    {
     "data": {
      "text/plain": [
       "(0.13399873429239528, 0.05543057826382352)"
      ]
     },
     "execution_count": 135,
     "metadata": {},
     "output_type": "execute_result"
    }
   ],
   "source": [
    "stats.pearsonr(Auto['Nor_Los'], Auto['Price'])"
   ]
  },
  {
   "cell_type": "markdown",
   "metadata": {},
   "source": [
    "'make','fuel-type','aspiration', 'num-of-doors','body-style','drive-wheels','engine-location','engine-type','num-of-cylinders','fuel-system'"
   ]
  },
  {
   "cell_type": "code",
   "execution_count": 136,
   "metadata": {},
   "outputs": [
    {
     "data": {
      "text/plain": [
       "<matplotlib.axes._subplots.AxesSubplot at 0x1a2cc1fa50>"
      ]
     },
     "execution_count": 136,
     "metadata": {},
     "output_type": "execute_result"
    },
    {
     "data": {
      "image/png": "[encoded data removed]",
      "text/plain": [
       "<Figure size 1080x576 with 10 Axes>"
      ]
     },
     "metadata": {
      "needs_background": "light"
     },
     "output_type": "display_data"
    }
   ],
   "source": [
    "f, axes = plt.subplots(2, 5, sharey=True, figsize=(15, 8))\n",
    "sns.boxplot(x=\"make\", y=\"Price\", data=Auto, ax=axes[0,0])\n",
    "sns.boxplot(x=\"Fue_Typ\", y=\"Price\", data=Auto,ax=axes[0,1])\n",
    "sns.boxplot(x=\"aspiration\", y=\"Price\", data=Auto,ax=axes[0,2])\n",
    "sns.boxplot(x=\"Num_of_Door\", y=\"Price\", data=Auto,ax=axes[0,3])\n",
    "sns.boxplot(x=\"Bod_Sty\", y=\"Price\", data=Auto,ax=axes[0,4])\n",
    "sns.boxplot(x=\"Dri_Whe\", y=\"Price\", data=Auto,ax=axes[1,0])\n",
    "sns.boxplot(x=\"Eng_Typ\", y=\"Price\", data=Auto,ax=axes[1,1])\n",
    "sns.boxplot(x=\"Num_of_Cyl\", y=\"Price\", data=Auto,ax=axes[1,2])\n",
    "sns.boxplot(x=\"Fue_Sys\", y=\"Price\", data=Auto,ax=axes[1,3])\n",
    "sns.boxplot(x=\"Eng_Loc\", y=\"Price\", data=Auto,ax=axes[1,4])"
   ]
  },
  {
   "cell_type": "code",
   "execution_count": 137,
   "metadata": {},
   "outputs": [
    {
     "data": {
      "image/png": "[encoded data removed]",
      "text/plain": [
       "<Figure size 1080x576 with 6 Axes>"
      ]
     },
     "metadata": {
      "needs_background": "light"
     },
     "output_type": "display_data"
    }
   ],
   "source": [
    "#Categorical features distributions:\n",
    "categorical = ['make', 'Bod_Sty', 'Eng_Loc',\n",
    "               'Dri_Whe', 'Eng_Typ', 'Num_of_Cyl', 'Fue_Sys']\n",
    "fig, axs = plt.subplots(nrows=2, ncols=3, figsize=(15, 8))\n",
    "for col, ax in zip(categorical[1:], axs.ravel()):\n",
    "    sns.countplot(x=col, data=Auto, ax=ax)\n",
    "#The dataset is quiet unbalanced in body_style, \n",
    "#engine_location, engine_type, num_of_cylinders and fuel_system. \n",
    "#We can combine rare values to add more balance to the data. \n",
    "#Also there very few examples of vehicles with rear engine, \n",
    "#so we won't use this feature in the model."
   ]
  },
  {
   "cell_type": "code",
   "execution_count": 138,
   "metadata": {},
   "outputs": [],
   "source": [
    "#drive_wheels_counts = Auto['Dri_Whe'].value_counts().to_frame()\n",
    "#drive_wheels_counts.rename(columns={'drive-wheels':'value_counts'},inplace=True)\n",
    "#drive_wheels_counts"
   ]
  },
  {
   "cell_type": "code",
   "execution_count": 139,
   "metadata": {},
   "outputs": [
    {
     "name": "stdout",
     "output_type": "stream",
     "text": [
      "ANOVA results: F= 67.50368965539572 , P = 3.5392223627637895e-23\n"
     ]
    }
   ],
   "source": [
    "Auto_gptest=Auto[['Dri_Whe','Price']]\n",
    "grouped_test2=Auto_gptest[['Dri_Whe', 'Price']].groupby(['Dri_Whe'])\n",
    "f_val, p_val = stats.f_oneway(grouped_test2.get_group('fwd')['Price'], \n",
    "                              grouped_test2.get_group('rwd')['Price'], \n",
    "                              grouped_test2.get_group('4wd')['Price'])  \n",
    " \n",
    "print( \"ANOVA results: F=\", f_val, \", P =\", p_val)"
   ]
  },
  {
   "cell_type": "markdown",
   "metadata": {},
   "source": [
    "Length\n",
    "Width\n",
    "Curb-weight\n",
    "Engine-size\n",
    "Horsepower\n",
    "City-mpg\n",
    "Highway-mpg\n",
    "Wheel-base\n",
    "\n",
    "\n",
    "Categorical variables:\n",
    "\n",
    "Drive-wheels"
   ]
  },
  {
   "cell_type": "code",
   "execution_count": 140,
   "metadata": {},
   "outputs": [
    {
     "data": {
      "text/html": [
       "<div>\n",
       "<style scoped>\n",
       "    .dataframe tbody tr th:only-of-type {\n",
       "        vertical-align: middle;\n",
       "    }\n",
       "\n",
       "    .dataframe tbody tr th {\n",
       "        vertical-align: top;\n",
       "    }\n",
       "\n",
       "    .dataframe thead th {\n",
       "        text-align: right;\n",
       "    }\n",
       "</style>\n",
       "<table border=\"1\" class=\"dataframe\">\n",
       "  <thead>\n",
       "    <tr style=\"text-align: right;\">\n",
       "      <th></th>\n",
       "      <th>hp</th>\n",
       "      <th>Cur_Wei</th>\n",
       "      <th>Eng_Siz</th>\n",
       "      <th>mpg</th>\n",
       "      <th>Dri_Whe</th>\n",
       "      <th>Price</th>\n",
       "    </tr>\n",
       "  </thead>\n",
       "  <tbody>\n",
       "    <tr>\n",
       "      <td>1</td>\n",
       "      <td>111</td>\n",
       "      <td>2548</td>\n",
       "      <td>130</td>\n",
       "      <td>24.0</td>\n",
       "      <td>rwd</td>\n",
       "      <td>13495</td>\n",
       "    </tr>\n",
       "    <tr>\n",
       "      <td>2</td>\n",
       "      <td>111</td>\n",
       "      <td>2548</td>\n",
       "      <td>130</td>\n",
       "      <td>24.0</td>\n",
       "      <td>rwd</td>\n",
       "      <td>16500</td>\n",
       "    </tr>\n",
       "    <tr>\n",
       "      <td>3</td>\n",
       "      <td>154</td>\n",
       "      <td>2823</td>\n",
       "      <td>152</td>\n",
       "      <td>22.5</td>\n",
       "      <td>rwd</td>\n",
       "      <td>16500</td>\n",
       "    </tr>\n",
       "    <tr>\n",
       "      <td>4</td>\n",
       "      <td>102</td>\n",
       "      <td>2337</td>\n",
       "      <td>109</td>\n",
       "      <td>27.0</td>\n",
       "      <td>fwd</td>\n",
       "      <td>13950</td>\n",
       "    </tr>\n",
       "    <tr>\n",
       "      <td>5</td>\n",
       "      <td>115</td>\n",
       "      <td>2824</td>\n",
       "      <td>136</td>\n",
       "      <td>20.0</td>\n",
       "      <td>4wd</td>\n",
       "      <td>17450</td>\n",
       "    </tr>\n",
       "    <tr>\n",
       "      <td>...</td>\n",
       "      <td>...</td>\n",
       "      <td>...</td>\n",
       "      <td>...</td>\n",
       "      <td>...</td>\n",
       "      <td>...</td>\n",
       "      <td>...</td>\n",
       "    </tr>\n",
       "    <tr>\n",
       "      <td>201</td>\n",
       "      <td>114</td>\n",
       "      <td>2952</td>\n",
       "      <td>141</td>\n",
       "      <td>25.5</td>\n",
       "      <td>rwd</td>\n",
       "      <td>16845</td>\n",
       "    </tr>\n",
       "    <tr>\n",
       "      <td>202</td>\n",
       "      <td>160</td>\n",
       "      <td>3049</td>\n",
       "      <td>141</td>\n",
       "      <td>22.0</td>\n",
       "      <td>rwd</td>\n",
       "      <td>19045</td>\n",
       "    </tr>\n",
       "    <tr>\n",
       "      <td>203</td>\n",
       "      <td>134</td>\n",
       "      <td>3012</td>\n",
       "      <td>173</td>\n",
       "      <td>20.5</td>\n",
       "      <td>rwd</td>\n",
       "      <td>21485</td>\n",
       "    </tr>\n",
       "    <tr>\n",
       "      <td>204</td>\n",
       "      <td>106</td>\n",
       "      <td>3217</td>\n",
       "      <td>145</td>\n",
       "      <td>26.5</td>\n",
       "      <td>rwd</td>\n",
       "      <td>22470</td>\n",
       "    </tr>\n",
       "    <tr>\n",
       "      <td>205</td>\n",
       "      <td>114</td>\n",
       "      <td>3062</td>\n",
       "      <td>141</td>\n",
       "      <td>22.0</td>\n",
       "      <td>rwd</td>\n",
       "      <td>22625</td>\n",
       "    </tr>\n",
       "  </tbody>\n",
       "</table>\n",
       "<p>205 rows × 6 columns</p>\n",
       "</div>"
      ],
      "text/plain": [
       "      hp  Cur_Wei  Eng_Siz   mpg Dri_Whe  Price\n",
       "1    111     2548      130  24.0     rwd  13495\n",
       "2    111     2548      130  24.0     rwd  16500\n",
       "3    154     2823      152  22.5     rwd  16500\n",
       "4    102     2337      109  27.0     fwd  13950\n",
       "5    115     2824      136  20.0     4wd  17450\n",
       "..   ...      ...      ...   ...     ...    ...\n",
       "201  114     2952      141  25.5     rwd  16845\n",
       "202  160     3049      141  22.0     rwd  19045\n",
       "203  134     3012      173  20.5     rwd  21485\n",
       "204  106     3217      145  26.5     rwd  22470\n",
       "205  114     3062      141  22.0     rwd  22625\n",
       "\n",
       "[205 rows x 6 columns]"
      ]
     },
     "execution_count": 140,
     "metadata": {},
     "output_type": "execute_result"
    }
   ],
   "source": [
    "newdata=data2[['hp','Cur_Wei','Eng_Siz','mpg','Dri_Whe','Price']]\n",
    "newdata"
   ]
  },
  {
   "cell_type": "code",
   "execution_count": 141,
   "metadata": {},
   "outputs": [],
   "source": [
    "Dri_Whe_code = {'rwd': 0,'fwd':2, '4wd': 4}\n",
    "newdata['Dri_Whe'] = newdata['Dri_Whe'].map(Dri_Whe_code)"
   ]
  },
  {
   "cell_type": "code",
   "execution_count": 142,
   "metadata": {},
   "outputs": [
    {
     "name": "stdout",
     "output_type": "stream",
     "text": [
      "-9595.302575774049\n",
      "[ 17.51410443   3.87610928 101.29320271 -63.74693048]\n"
     ]
    }
   ],
   "source": [
    "lm = LinearRegression()\n",
    "P = newdata[['hp','Cur_Wei','Eng_Siz','mpg']]\n",
    "#Fit the linear model\n",
    "lm.fit(Z, Auto['Price'])\n",
    "print(lm.intercept_)\n",
    "print(lm.coef_)"
   ]
  },
  {
   "cell_type": "code",
   "execution_count": 143,
   "metadata": {},
   "outputs": [
    {
     "data": {
      "text/html": [
       "<div>\n",
       "<style scoped>\n",
       "    .dataframe tbody tr th:only-of-type {\n",
       "        vertical-align: middle;\n",
       "    }\n",
       "\n",
       "    .dataframe tbody tr th {\n",
       "        vertical-align: top;\n",
       "    }\n",
       "\n",
       "    .dataframe thead th {\n",
       "        text-align: right;\n",
       "    }\n",
       "</style>\n",
       "<table border=\"1\" class=\"dataframe\">\n",
       "  <thead>\n",
       "    <tr style=\"text-align: right;\">\n",
       "      <th></th>\n",
       "      <th>VIF</th>\n",
       "      <th>Tolerance</th>\n",
       "    </tr>\n",
       "  </thead>\n",
       "  <tbody>\n",
       "    <tr>\n",
       "      <td>hp</td>\n",
       "      <td>4.460783</td>\n",
       "      <td>0.224176</td>\n",
       "    </tr>\n",
       "    <tr>\n",
       "      <td>Cur_Wei</td>\n",
       "      <td>5.300314</td>\n",
       "      <td>0.188668</td>\n",
       "    </tr>\n",
       "    <tr>\n",
       "      <td>Eng_Siz</td>\n",
       "      <td>5.298836</td>\n",
       "      <td>0.188721</td>\n",
       "    </tr>\n",
       "    <tr>\n",
       "      <td>mpg</td>\n",
       "      <td>3.804192</td>\n",
       "      <td>0.262868</td>\n",
       "    </tr>\n",
       "  </tbody>\n",
       "</table>\n",
       "</div>"
      ],
      "text/plain": [
       "              VIF  Tolerance\n",
       "hp       4.460783   0.224176\n",
       "Cur_Wei  5.300314   0.188668\n",
       "Eng_Siz  5.298836   0.188721\n",
       "mpg      3.804192   0.262868"
      ]
     },
     "execution_count": 143,
     "metadata": {},
     "output_type": "execute_result"
    }
   ],
   "source": [
    "import pandas as pd\n",
    "import statsmodels.formula.api as smf\n",
    "\n",
    "def get_vif(exogs, data):\n",
    "    '''Return VIF (variance inflation factor) DataFrame\n",
    "\n",
    "    Args:\n",
    "    exogs (list): list of exogenous/independent variables\n",
    "    data (DataFrame): the df storing all variables\n",
    "\n",
    "    Returns:\n",
    "    VIF and Tolerance DataFrame for each exogenous variable\n",
    "\n",
    "    Notes:\n",
    "    Assume we have a list of exogenous variable [X1, X2, X3, X4].\n",
    "    To calculate the VIF and Tolerance for each variable, we regress\n",
    "    each of them against other exogenous variables. For instance, the\n",
    "    regression model for X3 is defined as:\n",
    "                        X3 ~ X1 + X2 + X4\n",
    "    And then we extract the R-squared from the model to calculate:\n",
    "                    VIF = 1 / (1 - R-squared)\n",
    "                    Tolerance = 1 - R-squared\n",
    "    The cutoff to detect multicollinearity:\n",
    "                    VIF > 10 or Tolerance < 0.1\n",
    "    '''\n",
    "\n",
    "    # initialize dictionaries\n",
    "    vif_dict, tolerance_dict = {}, {}\n",
    "\n",
    "    # create formula for each exogenous variable\n",
    "    for exog in exogs:\n",
    "        not_exog = [i for i in exogs if i != exog]\n",
    "        formula = f\"{exog} ~ {' + '.join(not_exog)}\"\n",
    "\n",
    "        # extract r-squared from the fit\n",
    "        r_squared = smf.ols(formula, data=data).fit().rsquared\n",
    "\n",
    "        # calculate VIF\n",
    "        vif = 1/(1 - r_squared)\n",
    "        vif_dict[exog] = vif\n",
    "\n",
    "        # calculate tolerance\n",
    "        tolerance = 1 - r_squared\n",
    "        tolerance_dict[exog] = tolerance\n",
    "\n",
    "    # return VIF DataFrame\n",
    "    df_vif = pd.DataFrame({'VIF': vif_dict, 'Tolerance': tolerance_dict})\n",
    "\n",
    "    return df_vif\n",
    "get_vif(exogs=P, data=newdata)"
   ]
  },
  {
   "cell_type": "code",
   "execution_count": 144,
   "metadata": {},
   "outputs": [
    {
     "data": {
      "text/plain": [
       "<matplotlib.legend.Legend at 0x1a2d5be990>"
      ]
     },
     "execution_count": 144,
     "metadata": {},
     "output_type": "execute_result"
    },
    {
     "data": {
      "image/png": "[encoded data removed]",
      "text/plain": [
       "<Figure size 720x288 with 2 Axes>"
      ]
     },
     "metadata": {
      "needs_background": "light"
     },
     "output_type": "display_data"
    }
   ],
   "source": [
    "import seaborn as sb\n",
    "df = df._get_numeric_data()\n",
    "y = df['Price'].values\n",
    "x = P\n",
    "# MinMaxScaler\n",
    "from sklearn.preprocessing import MinMaxScaler\n",
    "x= MinMaxScaler().fit(x).transform(x)\n",
    "# Split dataset to train and test datasets\n",
    "from sklearn.model_selection import train_test_split\n",
    "x_train, x_test, y_train, y_test = train_test_split( x, y, test_size=0.2, random_state=4)\n",
    "from sklearn.linear_model import LinearRegression\n",
    "regressor = LinearRegression()  \n",
    "regressor.fit(x_train, y_train)\n",
    "# Predict on test set\n",
    "y_pred = regressor.predict(x_test)\n",
    "r = scipy.stats.pearsonr(y_test, y_pred)\n",
    "pearson_r = str(round(r[0],2))\n",
    "pearson_p = str(r[1])\n",
    "\n",
    "plt.figure(figsize= (10,4))\n",
    "ax1 = plt.subplot(121)\n",
    "sb.scatterplot(y_test, y_pred)\n",
    "plt.text(5000, 35000, 'pearson R: '+ pearson_r + '\\np: ' + pearson_p, va = 'top')\n",
    "\n",
    "ax2 = plt.subplot(122)\n",
    "sb.kdeplot(y_test, shade=True, color=\"r\", legend=True, label = 'Test')\n",
    "sb.kdeplot(y_pred, shade=True, color=\"b\", legend=True, label = 'Predict')\n",
    "plt.legend()"
   ]
  },
  {
   "cell_type": "code",
   "execution_count": 145,
   "metadata": {},
   "outputs": [
    {
     "name": "stdout",
     "output_type": "stream",
     "text": [
      "Mean squared error: 12712460.351605985\n",
      "Mean absolute error: 2687.0481787282806\n",
      "R2 score: 0.7394477701057496\n"
     ]
    }
   ],
   "source": [
    "# Mean squared error\n",
    "from sklearn.metrics import mean_squared_error\n",
    "MSE = mean_squared_error(y_test,y_pred)\n",
    "print('Mean squared error:', MSE)\n",
    "\n",
    "# Mean absolute error\n",
    "from sklearn.metrics import mean_absolute_error\n",
    "MAE = mean_absolute_error(y_test,y_pred)\n",
    "print('Mean absolute error:', MAE)\n",
    "\n",
    "# R2 score\n",
    "from sklearn.metrics import r2_score\n",
    "r2 = r2_score(y_test, y_pred)\n",
    "print('R2 score:', r2)"
   ]
  },
  {
   "cell_type": "code",
   "execution_count": 146,
   "metadata": {},
   "outputs": [
    {
     "data": {
      "text/plain": [
       "<matplotlib.legend.Legend at 0x1a2d6a0c90>"
      ]
     },
     "execution_count": 146,
     "metadata": {},
     "output_type": "execute_result"
    },
    {
     "data": {
      "image/png": "[encoded data removed]",
      "text/plain": [
       "<Figure size 720x288 with 2 Axes>"
      ]
     },
     "metadata": {
      "needs_background": "light"
     },
     "output_type": "display_data"
    }
   ],
   "source": [
    "from sklearn.linear_model import Lasso\n",
    "lasso_model = Lasso(alpha = 0.05, normalize = True)\n",
    "lasso_model.fit(x_train, y_train)\n",
    "y_pred = lasso_model.predict(x_test)\n",
    "r = scipy.stats.pearsonr(y_test, y_pred)\n",
    "pearson_r = str(round(r[0],2))\n",
    "pearson_p = str(r[1])\n",
    "\n",
    "plt.figure(figsize= (10,4))\n",
    "ax1 = plt.subplot(121)\n",
    "sb.scatterplot(y_test, y_pred)\n",
    "plt.text(5000, 35000, 'pearson R: '+ pearson_r + '\\np: ' + pearson_p, va = 'top')\n",
    "\n",
    "ax2 = plt.subplot(122)\n",
    "sb.kdeplot(y_test, shade=True, color=\"r\", legend=True, label = 'Test')\n",
    "sb.kdeplot(y_pred, shade=True, color=\"b\", legend=True, label = 'Predict')\n",
    "plt.legend()"
   ]
  },
  {
   "cell_type": "code",
   "execution_count": 147,
   "metadata": {},
   "outputs": [
    {
     "name": "stdout",
     "output_type": "stream",
     "text": [
      "Mean squared error: 12710392.539261268\n",
      "Mean absolute error: 2686.8350414259894\n",
      "R2 score: 0.7394901516040999\n"
     ]
    }
   ],
   "source": [
    "# Mean squared error\n",
    "from sklearn.metrics import mean_squared_error\n",
    "MSE = mean_squared_error(y_test,y_pred)\n",
    "print('Mean squared error:', MSE)\n",
    "\n",
    "# Mean absolute error\n",
    "from sklearn.metrics import mean_absolute_error\n",
    "MAE = mean_absolute_error(y_test,y_pred)\n",
    "print('Mean absolute error:', MAE)\n",
    "\n",
    "# R2 score\n",
    "from sklearn.metrics import r2_score\n",
    "r2 = r2_score(y_test, y_pred)\n",
    "print('R2 score:', r2)"
   ]
  },
  {
   "cell_type": "code",
   "execution_count": 148,
   "metadata": {},
   "outputs": [
    {
     "data": {
      "text/plain": [
       "<matplotlib.legend.Legend at 0x1a2d7a1790>"
      ]
     },
     "execution_count": 148,
     "metadata": {},
     "output_type": "execute_result"
    },
    {
     "data": {
      "image/png": "[encoded data removed]",
      "text/plain": [
       "<Figure size 720x288 with 2 Axes>"
      ]
     },
     "metadata": {
      "needs_background": "light"
     },
     "output_type": "display_data"
    }
   ],
   "source": [
    "#ElasticNet Regression\n",
    "from sklearn.linear_model import ElasticNet\n",
    "enet_model = ElasticNet(alpha=0.01, l1_ratio=0.5, normalize=False)\n",
    "enet_model.fit(x_train, y_train)\n",
    "y_pred = enet_model.predict(x_test)\n",
    "r = scipy.stats.pearsonr(y_test, y_pred)\n",
    "pearson_r = str(round(r[0],2))\n",
    "pearson_p = str(r[1])\n",
    "\n",
    "plt.figure(figsize= (10,4))\n",
    "ax1 = plt.subplot(121)\n",
    "sb.scatterplot(y_test, y_pred)\n",
    "plt.text(5000, 35000, 'pearson R: '+ pearson_r + '\\np: ' + pearson_p, va = 'top')\n",
    "\n",
    "ax2 = plt.subplot(122)\n",
    "sb.kdeplot(y_test, shade=True, color=\"r\", legend=True, label = 'Test')\n",
    "sb.kdeplot(y_pred, shade=True, color=\"b\", legend=True, label = 'Predict')\n",
    "plt.legend()"
   ]
  },
  {
   "cell_type": "code",
   "execution_count": 149,
   "metadata": {},
   "outputs": [
    {
     "name": "stdout",
     "output_type": "stream",
     "text": [
      "Mean squared error: 12388972.693225805\n",
      "Mean absolute error: 2620.2393642476623\n",
      "R2 score: 0.7460779131624851\n"
     ]
    }
   ],
   "source": [
    "# Mean squared error\n",
    "from sklearn.metrics import mean_squared_error\n",
    "MSE = mean_squared_error(y_test,y_pred)\n",
    "print('Mean squared error:', MSE)\n",
    "\n",
    "# Mean absolute error\n",
    "from sklearn.metrics import mean_absolute_error\n",
    "MAE = mean_absolute_error(y_test,y_pred)\n",
    "print('Mean absolute error:', MAE)\n",
    "\n",
    "# R2 score\n",
    "from sklearn.metrics import r2_score\n",
    "r2 = r2_score(y_test, y_pred)\n",
    "print('R2 score:', r2)"
   ]
  },
  {
   "cell_type": "code",
   "execution_count": null,
   "metadata": {},
   "outputs": [],
   "source": []
  }
 ],
 "metadata": {
  "kernelspec": {
   "display_name": "Python 3",
   "language": "python",
   "name": "python3"
  },
  "language_info": {
   "codemirror_mode": {
    "name": "ipython",
    "version": 3
   },
   "file_extension": ".py",
   "mimetype": "text/x-python",
   "name": "python",
   "nbconvert_exporter": "python",
   "pygments_lexer": "ipython3",
   "version": "3.7.4"
  }
 },
 "nbformat": 4,
 "nbformat_minor": 2
}
